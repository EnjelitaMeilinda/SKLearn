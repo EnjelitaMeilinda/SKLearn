{
 "cells": [
  {
   "cell_type": "markdown",
   "id": "7ed97963-cb38-4388-b557-fa4958a97ac8",
   "metadata": {},
   "source": [
    "# 07 Regression dengan KNN (K Nearest Neighbours)\n",
    "\n",
    "* KNN adalah model machine learning yang dapat digunakan untuk melakukan prediksi berdasarkan kedekatan karakteristik dengan sejumlah tetangga terdekat.\n",
    "\n",
    "* Prediksi yang dilakukan dapat diterapkan baik pada classification maupun regression tasks.\n",
    "\n",
    "Referensi: https://en.wikipedia.org/wiki/K-nearest neighbors algorithm"
   ]
  },
  {
   "cell_type": "markdown",
   "id": "3aab5229-a938-4318-9e99-74a34fac94b9",
   "metadata": {},
   "source": [
    "# Sample Dataset"
   ]
  },
  {
   "cell_type": "code",
   "execution_count": 7,
   "id": "9ec46dfc-27d9-48cd-88bb-5f280a22d497",
   "metadata": {},
   "outputs": [
    {
     "data": {
      "text/html": [
       "<div>\n",
       "<style scoped>\n",
       "    .dataframe tbody tr th:only-of-type {\n",
       "        vertical-align: middle;\n",
       "    }\n",
       "\n",
       "    .dataframe tbody tr th {\n",
       "        vertical-align: top;\n",
       "    }\n",
       "\n",
       "    .dataframe thead th {\n",
       "        text-align: right;\n",
       "    }\n",
       "</style>\n",
       "<table border=\"1\" class=\"dataframe\">\n",
       "  <thead>\n",
       "    <tr style=\"text-align: right;\">\n",
       "      <th></th>\n",
       "      <th>tinggi</th>\n",
       "      <th>jk</th>\n",
       "      <th>berat</th>\n",
       "    </tr>\n",
       "  </thead>\n",
       "  <tbody>\n",
       "    <tr>\n",
       "      <th>0</th>\n",
       "      <td>158</td>\n",
       "      <td>pria</td>\n",
       "      <td>64</td>\n",
       "    </tr>\n",
       "    <tr>\n",
       "      <th>1</th>\n",
       "      <td>170</td>\n",
       "      <td>pria</td>\n",
       "      <td>86</td>\n",
       "    </tr>\n",
       "    <tr>\n",
       "      <th>2</th>\n",
       "      <td>183</td>\n",
       "      <td>pria</td>\n",
       "      <td>84</td>\n",
       "    </tr>\n",
       "    <tr>\n",
       "      <th>3</th>\n",
       "      <td>191</td>\n",
       "      <td>pria</td>\n",
       "      <td>88</td>\n",
       "    </tr>\n",
       "    <tr>\n",
       "      <th>4</th>\n",
       "      <td>155</td>\n",
       "      <td>wanita</td>\n",
       "      <td>49</td>\n",
       "    </tr>\n",
       "    <tr>\n",
       "      <th>5</th>\n",
       "      <td>163</td>\n",
       "      <td>wanita</td>\n",
       "      <td>59</td>\n",
       "    </tr>\n",
       "    <tr>\n",
       "      <th>6</th>\n",
       "      <td>180</td>\n",
       "      <td>wanita</td>\n",
       "      <td>67</td>\n",
       "    </tr>\n",
       "    <tr>\n",
       "      <th>7</th>\n",
       "      <td>158</td>\n",
       "      <td>wanita</td>\n",
       "      <td>54</td>\n",
       "    </tr>\n",
       "    <tr>\n",
       "      <th>8</th>\n",
       "      <td>170</td>\n",
       "      <td>wanita</td>\n",
       "      <td>67</td>\n",
       "    </tr>\n",
       "  </tbody>\n",
       "</table>\n",
       "</div>"
      ],
      "text/plain": [
       "   tinggi      jk  berat\n",
       "0     158    pria     64\n",
       "1     170    pria     86\n",
       "2     183    pria     84\n",
       "3     191    pria     88\n",
       "4     155  wanita     49\n",
       "5     163  wanita     59\n",
       "6     180  wanita     67\n",
       "7     158  wanita     54\n",
       "8     170  wanita     67"
      ]
     },
     "execution_count": 7,
     "metadata": {},
     "output_type": "execute_result"
    }
   ],
   "source": [
    "import pandas as pd\n",
    "\n",
    "sensus = {'tinggi': [158, 170, 183, 191, 155, 163, 180, 158, 170],\n",
    "          'jk': ['pria', 'pria', 'pria', 'pria', 'wanita', 'wanita', 'wanita', 'wanita', 'wanita'],\n",
    "          'berat': [64, 86, 84, 88, 49, 59, 67, 54, 67]}\n",
    "\n",
    "sensus_df = pd.DataFrame (sensus)\n",
    "sensus_df"
   ]
  },
  {
   "cell_type": "markdown",
   "id": "4441c3fa-df74-4970-849a-a6698a650281",
   "metadata": {},
   "source": [
    "# Regression dengan KNN"
   ]
  },
  {
   "cell_type": "markdown",
   "id": "e9ed4ad3-9a43-4f10-a1dd-227e215f15b1",
   "metadata": {},
   "source": [
    "# Features & Target"
   ]
  },
  {
   "cell_type": "code",
   "execution_count": 8,
   "id": "7090dd06-5c22-4921-be50-ff931072b91b",
   "metadata": {},
   "outputs": [
    {
     "name": "stdout",
     "output_type": "stream",
     "text": [
      "X_train:\n",
      "[[158 'pria']\n",
      " [170 'pria']\n",
      " [183 'pria']\n",
      " [191 'pria']\n",
      " [155 'wanita']\n",
      " [163 'wanita']\n",
      " [180 'wanita']\n",
      " [158 'wanita']\n",
      " [170 'wanita']]\n",
      "\n",
      "y_train: [64 86 84 88 49 59 67 54 67]\n"
     ]
    }
   ],
   "source": [
    "import numpy as np\n",
    "\n",
    "X_train = np.array(sensus_df[['tinggi', 'jk']])\n",
    "y_train = np.array(sensus_df['berat'])\n",
    "\n",
    "print(f'X_train:\\n{X_train}\\n')\n",
    "print(f'y_train: {y_train}')"
   ]
  },
  {
   "cell_type": "markdown",
   "id": "44ae53f2-8178-444b-86bb-145a9fc0d639",
   "metadata": {},
   "source": [
    "# Preprocess Dataset Konversi Label menjadi Numerik Biner"
   ]
  },
  {
   "cell_type": "code",
   "execution_count": 9,
   "id": "96bf18cb-7243-46d7-8104-6a9713580245",
   "metadata": {},
   "outputs": [
    {
     "name": "stdout",
     "output_type": "stream",
     "text": [
      "X_train:\n",
      "[[158 'pria']\n",
      " [170 'pria']\n",
      " [183 'pria']\n",
      " [191 'pria']\n",
      " [155 'wanita']\n",
      " [163 'wanita']\n",
      " [180 'wanita']\n",
      " [158 'wanita']\n",
      " [170 'wanita']]\n",
      "\n",
      "X_train_transposed:\n",
      "[[158 170 183 191 155 163 180 158 170]\n",
      " ['pria' 'pria' 'pria' 'pria' 'wanita' 'wanita' 'wanita' 'wanita'\n",
      "  'wanita']]\n"
     ]
    }
   ],
   "source": [
    "X_train_transposed = np.transpose(X_train)\n",
    "\n",
    "print(f'X_train:\\n{X_train}\\n')\n",
    "print(f'X_train_transposed:\\n{X_train_transposed}')"
   ]
  },
  {
   "cell_type": "code",
   "execution_count": 10,
   "id": "6ce69bf0-d4ac-4a60-830c-988b151acf36",
   "metadata": {},
   "outputs": [
    {
     "name": "stdout",
     "output_type": "stream",
     "text": [
      "jk: ['pria' 'pria' 'pria' 'pria' 'wanita' 'wanita' 'wanita' 'wanita' 'wanita']\n",
      "\n",
      "jk_binarised:\n",
      "[[0]\n",
      " [0]\n",
      " [0]\n",
      " [0]\n",
      " [1]\n",
      " [1]\n",
      " [1]\n",
      " [1]\n",
      " [1]]\n"
     ]
    }
   ],
   "source": [
    "from sklearn.preprocessing import LabelBinarizer\n",
    "\n",
    "lb = LabelBinarizer()\n",
    "jk_binarised = lb.fit_transform(X_train_transposed [1])\n",
    "\n",
    "print(f'jk: {X_train_transposed[1]}\\n')\n",
    "print(f'jk_binarised:\\n{jk_binarised}')"
   ]
  },
  {
   "cell_type": "code",
   "execution_count": 11,
   "id": "77c3c1b5-624b-4a17-a440-92f64ae59de6",
   "metadata": {},
   "outputs": [
    {
     "data": {
      "text/plain": [
       "array([0, 0, 0, 0, 1, 1, 1, 1, 1])"
      ]
     },
     "execution_count": 11,
     "metadata": {},
     "output_type": "execute_result"
    }
   ],
   "source": [
    "jk_binarised = jk_binarised.flatten()\n",
    "jk_binarised"
   ]
  },
  {
   "cell_type": "code",
   "execution_count": 12,
   "id": "493fc65a-a5ef-41f4-b426-65a776ddaa9d",
   "metadata": {},
   "outputs": [
    {
     "name": "stdout",
     "output_type": "stream",
     "text": [
      "X_train_transposed:\n",
      "[[158 170 183 191 155 163 180 158 170]\n",
      " [0 0 0 0 1 1 1 1 1]]\n",
      "\n",
      "X_train:\n",
      "[[158 0]\n",
      " [170 0]\n",
      " [183 0]\n",
      " [191 0]\n",
      " [155 1]\n",
      " [163 1]\n",
      " [180 1]\n",
      " [158 1]\n",
      " [170 1]]\n"
     ]
    }
   ],
   "source": [
    "X_train_transposed [1] = jk_binarised\n",
    "X_train = X_train_transposed.transpose()\n",
    "\n",
    "print(f'X_train_transposed:\\n{X_train_transposed}\\n')\n",
    "print(f'X_train:\\n{X_train}')"
   ]
  },
  {
   "cell_type": "markdown",
   "id": "1b14bcf7-64a5-41b3-ae1e-a7e68c3fc95b",
   "metadata": {},
   "source": [
    "# Training KNN Regression Model"
   ]
  },
  {
   "cell_type": "code",
   "execution_count": 13,
   "id": "c05f5bcf-7f64-4102-b1cf-ba8f9d9a86ab",
   "metadata": {},
   "outputs": [
    {
     "data": {
      "text/html": [
       "<style>#sk-container-id-1 {color: black;background-color: white;}#sk-container-id-1 pre{padding: 0;}#sk-container-id-1 div.sk-toggleable {background-color: white;}#sk-container-id-1 label.sk-toggleable__label {cursor: pointer;display: block;width: 100%;margin-bottom: 0;padding: 0.3em;box-sizing: border-box;text-align: center;}#sk-container-id-1 label.sk-toggleable__label-arrow:before {content: \"▸\";float: left;margin-right: 0.25em;color: #696969;}#sk-container-id-1 label.sk-toggleable__label-arrow:hover:before {color: black;}#sk-container-id-1 div.sk-estimator:hover label.sk-toggleable__label-arrow:before {color: black;}#sk-container-id-1 div.sk-toggleable__content {max-height: 0;max-width: 0;overflow: hidden;text-align: left;background-color: #f0f8ff;}#sk-container-id-1 div.sk-toggleable__content pre {margin: 0.2em;color: black;border-radius: 0.25em;background-color: #f0f8ff;}#sk-container-id-1 input.sk-toggleable__control:checked~div.sk-toggleable__content {max-height: 200px;max-width: 100%;overflow: auto;}#sk-container-id-1 input.sk-toggleable__control:checked~label.sk-toggleable__label-arrow:before {content: \"▾\";}#sk-container-id-1 div.sk-estimator input.sk-toggleable__control:checked~label.sk-toggleable__label {background-color: #d4ebff;}#sk-container-id-1 div.sk-label input.sk-toggleable__control:checked~label.sk-toggleable__label {background-color: #d4ebff;}#sk-container-id-1 input.sk-hidden--visually {border: 0;clip: rect(1px 1px 1px 1px);clip: rect(1px, 1px, 1px, 1px);height: 1px;margin: -1px;overflow: hidden;padding: 0;position: absolute;width: 1px;}#sk-container-id-1 div.sk-estimator {font-family: monospace;background-color: #f0f8ff;border: 1px dotted black;border-radius: 0.25em;box-sizing: border-box;margin-bottom: 0.5em;}#sk-container-id-1 div.sk-estimator:hover {background-color: #d4ebff;}#sk-container-id-1 div.sk-parallel-item::after {content: \"\";width: 100%;border-bottom: 1px solid gray;flex-grow: 1;}#sk-container-id-1 div.sk-label:hover label.sk-toggleable__label {background-color: #d4ebff;}#sk-container-id-1 div.sk-serial::before {content: \"\";position: absolute;border-left: 1px solid gray;box-sizing: border-box;top: 0;bottom: 0;left: 50%;z-index: 0;}#sk-container-id-1 div.sk-serial {display: flex;flex-direction: column;align-items: center;background-color: white;padding-right: 0.2em;padding-left: 0.2em;position: relative;}#sk-container-id-1 div.sk-item {position: relative;z-index: 1;}#sk-container-id-1 div.sk-parallel {display: flex;align-items: stretch;justify-content: center;background-color: white;position: relative;}#sk-container-id-1 div.sk-item::before, #sk-container-id-1 div.sk-parallel-item::before {content: \"\";position: absolute;border-left: 1px solid gray;box-sizing: border-box;top: 0;bottom: 0;left: 50%;z-index: -1;}#sk-container-id-1 div.sk-parallel-item {display: flex;flex-direction: column;z-index: 1;position: relative;background-color: white;}#sk-container-id-1 div.sk-parallel-item:first-child::after {align-self: flex-end;width: 50%;}#sk-container-id-1 div.sk-parallel-item:last-child::after {align-self: flex-start;width: 50%;}#sk-container-id-1 div.sk-parallel-item:only-child::after {width: 0;}#sk-container-id-1 div.sk-dashed-wrapped {border: 1px dashed gray;margin: 0 0.4em 0.5em 0.4em;box-sizing: border-box;padding-bottom: 0.4em;background-color: white;}#sk-container-id-1 div.sk-label label {font-family: monospace;font-weight: bold;display: inline-block;line-height: 1.2em;}#sk-container-id-1 div.sk-label-container {text-align: center;}#sk-container-id-1 div.sk-container {/* jupyter's `normalize.less` sets `[hidden] { display: none; }` but bootstrap.min.css set `[hidden] { display: none !important; }` so we also need the `!important` here to be able to override the default hidden behavior on the sphinx rendered scikit-learn.org. See: https://github.com/scikit-learn/scikit-learn/issues/21755 */display: inline-block !important;position: relative;}#sk-container-id-1 div.sk-text-repr-fallback {display: none;}</style><div id=\"sk-container-id-1\" class=\"sk-top-container\"><div class=\"sk-text-repr-fallback\"><pre>KNeighborsRegressor(n_neighbors=3)</pre><b>In a Jupyter environment, please rerun this cell to show the HTML representation or trust the notebook. <br />On GitHub, the HTML representation is unable to render, please try loading this page with nbviewer.org.</b></div><div class=\"sk-container\" hidden><div class=\"sk-item\"><div class=\"sk-estimator sk-toggleable\"><input class=\"sk-toggleable__control sk-hidden--visually\" id=\"sk-estimator-id-1\" type=\"checkbox\" checked><label for=\"sk-estimator-id-1\" class=\"sk-toggleable__label sk-toggleable__label-arrow\">KNeighborsRegressor</label><div class=\"sk-toggleable__content\"><pre>KNeighborsRegressor(n_neighbors=3)</pre></div></div></div></div></div>"
      ],
      "text/plain": [
       "KNeighborsRegressor(n_neighbors=3)"
      ]
     },
     "execution_count": 13,
     "metadata": {},
     "output_type": "execute_result"
    }
   ],
   "source": [
    "from sklearn.neighbors import KNeighborsRegressor\n",
    "\n",
    "K = 3\n",
    "model = KNeighborsRegressor(n_neighbors=K)\n",
    "model.fit(X_train, y_train)"
   ]
  },
  {
   "cell_type": "markdown",
   "id": "373dc700-f5eb-4fa1-bf1f-58d2b40f5e25",
   "metadata": {},
   "source": [
    "# Prediksi Berat Badan"
   ]
  },
  {
   "cell_type": "code",
   "execution_count": 14,
   "id": "d0e78c9d-00e0-46cd-a69e-d9b04391f57b",
   "metadata": {},
   "outputs": [
    {
     "data": {
      "text/plain": [
       "array([[155,   1]])"
      ]
     },
     "execution_count": 14,
     "metadata": {},
     "output_type": "execute_result"
    }
   ],
   "source": [
    "X_new = np.array([[155, 1]]) \n",
    "X_new"
   ]
  },
  {
   "cell_type": "code",
   "execution_count": 15,
   "id": "49fb8a0a-9e7f-461d-8a94-0be31bf19804",
   "metadata": {},
   "outputs": [
    {
     "data": {
      "text/plain": [
       "array([55.66666667])"
      ]
     },
     "execution_count": 15,
     "metadata": {},
     "output_type": "execute_result"
    }
   ],
   "source": [
    "y_pred = model.predict(X_new)\n",
    "y_pred"
   ]
  },
  {
   "cell_type": "markdown",
   "id": "8ffdb226-d6b7-4986-9c3b-93b0052d2c1c",
   "metadata": {},
   "source": [
    "# Evaluasi KNN Regression Model"
   ]
  },
  {
   "cell_type": "code",
   "execution_count": 16,
   "id": "8edb7414-9ae2-463f-bfc8-0d580d88d676",
   "metadata": {},
   "outputs": [
    {
     "name": "stdout",
     "output_type": "stream",
     "text": [
      "X_test: \n",
      "[[168   0]\n",
      " [180   0]\n",
      " [160   1]\n",
      " [169   1]]\n",
      "\n",
      "y_test: [65 96 52 67]\n"
     ]
    }
   ],
   "source": [
    "X_test = np.array([[168, 0], [180, 0], [160, 1], [169, 1]])\n",
    "y_test = np.array([65, 96, 52, 67])\n",
    "\n",
    "print(f'X_test: \\n{X_test}\\n')\n",
    "print(f'y_test: {y_test}')"
   ]
  },
  {
   "cell_type": "code",
   "execution_count": 17,
   "id": "abadc39c-e00b-4494-b6d9-f81c1c62b543",
   "metadata": {},
   "outputs": [
    {
     "data": {
      "text/plain": [
       "array([70.66666667, 79.        , 59.        , 70.66666667])"
      ]
     },
     "execution_count": 17,
     "metadata": {},
     "output_type": "execute_result"
    }
   ],
   "source": [
    "y_pred = model.predict(X_test)\n",
    "y_pred"
   ]
  },
  {
   "cell_type": "markdown",
   "id": "44355b82-2cd3-41fa-a306-b2658cd69ecf",
   "metadata": {},
   "source": [
    "# Coefficient of Determination atau R2\n",
    "\n",
    "Referensi: https://en.wikipedia.org/wiki/Coefficient of determination"
   ]
  },
  {
   "cell_type": "code",
   "execution_count": 18,
   "id": "786635db-fb81-427c-9d82-26f096a45bdd",
   "metadata": {},
   "outputs": [
    {
     "name": "stdout",
     "output_type": "stream",
     "text": [
      "R-squared: 0.6290565226735438\n"
     ]
    }
   ],
   "source": [
    "from sklearn.metrics import r2_score\n",
    "\n",
    "r_squared = r2_score(y_test, y_pred)\n",
    "\n",
    "print(f'R-squared: {r_squared}')"
   ]
  },
  {
   "cell_type": "markdown",
   "id": "8490e6b9-6cd0-4694-8766-77a01409dcf2",
   "metadata": {},
   "source": [
    "# Mean Absolute Error (MAE) atau Mean Absolute Deviation (MAD)\n",
    "\n",
    "Referensi: https://en.wikipedia.org/wiki/Mean absolute error"
   ]
  },
  {
   "cell_type": "code",
   "execution_count": 20,
   "id": "fb2814df-f693-49ec-96ad-a8e73a6a6f75",
   "metadata": {},
   "outputs": [
    {
     "name": "stdout",
     "output_type": "stream",
     "text": [
      "MAE: 8.333333333333336\n"
     ]
    }
   ],
   "source": [
    "from sklearn.metrics import mean_absolute_error\n",
    "\n",
    "MAE = mean_absolute_error(y_test, y_pred)\n",
    "\n",
    "print(f'MAE: {MAE}')"
   ]
  },
  {
   "cell_type": "markdown",
   "id": "c100db7f-3038-4d76-97a7-94d090542541",
   "metadata": {},
   "source": [
    "# Mean Squared Error (MSE) atau Mean Squared Deviation (MSD)\n",
    "\n",
    "Referensi: https://en.wikipedia.org/wiki/Mean squared error\n"
   ]
  },
  {
   "cell_type": "code",
   "execution_count": 22,
   "id": "1a1f9a29-abe0-40cd-a7a0-c7b631e249a8",
   "metadata": {},
   "outputs": [
    {
     "name": "stdout",
     "output_type": "stream",
     "text": [
      "MSE: 95.8888888888889\n"
     ]
    }
   ],
   "source": [
    "from sklearn.metrics import mean_squared_error\n",
    "\n",
    "MSE = mean_squared_error(y_test, y_pred)\n",
    "\n",
    "print(f'MSE: {MSE}')"
   ]
  },
  {
   "cell_type": "markdown",
   "id": "88953d45-061d-4454-a13f-5741ecd4f2f1",
   "metadata": {},
   "source": [
    "# Permasalahan Scaling pada Features"
   ]
  },
  {
   "cell_type": "code",
   "execution_count": 24,
   "id": "7f4b22f8-5bb1-4ae8-a62e-d4774f20e4a9",
   "metadata": {},
   "outputs": [
    {
     "data": {
      "text/plain": [
       "[126.0, 40.01249804748511]"
      ]
     },
     "execution_count": 24,
     "metadata": {},
     "output_type": "execute_result"
    }
   ],
   "source": [
    "from scipy.spatial.distance import euclidean\n",
    "\n",
    "#tinggi dalam milimeter\n",
    "\n",
    "X_train = np.array([[1766, 0], [1600, 1]])\n",
    "X_new = np.array([[1640, 0]])\n",
    "\n",
    "[euclidean(X_new[0], d) for d in X_train]"
   ]
  },
  {
   "cell_type": "code",
   "execution_count": 26,
   "id": "cf8bcf22-6b7b-404c-a7d6-53e11160a7b4",
   "metadata": {},
   "outputs": [
    {
     "data": {
      "text/plain": [
       "[126.0, 40.01249804748511]"
      ]
     },
     "execution_count": 26,
     "metadata": {},
     "output_type": "execute_result"
    }
   ],
   "source": [
    "# tinggi dalam meter\n",
    "\n",
    "x_train = np.array([[1.7, 9], [1.6, 1]])\n",
    "x_new = np.array([[1.64, 0]])\n",
    "\n",
    "[euclidean (X_new[0], d) for d in X_train]"
   ]
  },
  {
   "cell_type": "markdown",
   "id": "7ba89757-a65f-48fa-9f40-2c08980f804f",
   "metadata": {},
   "source": [
    "# Menerapkan Standard Scaler (Standard Score atau Z-Score)\n",
    "\n",
    "Referensi: https://en.wikipedia.org/wiki/Standard_score"
   ]
  },
  {
   "cell_type": "code",
   "execution_count": 27,
   "id": "307b957f-758a-4a3f-93ab-fa89cce1c9b1",
   "metadata": {},
   "outputs": [],
   "source": [
    "from sklearn.preprocessing import StandardScaler\n",
    "\n",
    "ss = StandardScaler()"
   ]
  },
  {
   "cell_type": "code",
   "execution_count": 29,
   "id": "154b9662-adfd-41d2-aef9-9e4acc11173e",
   "metadata": {},
   "outputs": [
    {
     "name": "stdout",
     "output_type": "stream",
     "text": [
      "x_train_scaled:\n",
      "[[ 1. -1.]\n",
      " [-1.  1.]]\n",
      "\n",
      "x_new_scaled: [[-0.2 -1. ]]\n",
      "\n",
      "jarak: [1.2, 2.154065922853802]\n"
     ]
    }
   ],
   "source": [
    "# tinggi dalam milimeter\n",
    "\n",
    "X_train = np.array([[1700, 0], [1600, 1]])\n",
    "X_train_scaled = ss.fit_transform(X_train)\n",
    "print(f'x_train_scaled:\\n{X_train_scaled}\\n')\n",
    "\n",
    "X_new = np.array([[1640, 0]])\n",
    "X_new_scaled = ss.transform(X_new)\n",
    "print(f'x_new_scaled: {X_new_scaled}\\n')\n",
    "\n",
    "jarak = [euclidean(X_new_scaled [0], d) for d in X_train_scaled]\n",
    "print(f'jarak: {jarak}')"
   ]
  },
  {
   "cell_type": "code",
   "execution_count": 30,
   "id": "1cb32f75-199b-4175-b7d4-d2846b3f5b70",
   "metadata": {},
   "outputs": [
    {
     "name": "stdout",
     "output_type": "stream",
     "text": [
      "X_train_scaled:\n",
      "[[ 1. -1.]\n",
      " [-1.  1.]]\n",
      "\n",
      "X_new_scaled: [[-0.2 -1. ]]\n",
      "\n",
      "jarak: [1.2000000000000026, 2.1540659228538006]\n"
     ]
    }
   ],
   "source": [
    "# tinggi dalam meter\n",
    "\n",
    "X_train = np.array([[1.7, 0], [1.6, 1]])\n",
    "X_train_scaled = ss.fit_transform(X_train)\n",
    "print(f'X_train_scaled:\\n{X_train_scaled}\\n')\n",
    "\n",
    "X_new = np.array([[1.64, 0]])\n",
    "X_new_scaled = ss.transform(X_new)\n",
    "print(f'X_new_scaled: {X_new_scaled}\\n')\n",
    "\n",
    "jarak = [euclidean(X_new_scaled [0], d) for d in X_train_scaled]\n",
    "print(f'jarak: {jarak}')"
   ]
  },
  {
   "cell_type": "markdown",
   "id": "f17286cb-f05e-4cb0-b229-b725cf19c0ca",
   "metadata": {},
   "source": [
    "# Menerapkan Features Scaling pada KNN"
   ]
  },
  {
   "cell_type": "markdown",
   "id": "c3025277-bade-4098-a720-f7fde8357ab7",
   "metadata": {},
   "source": [
    "# Dataset"
   ]
  },
  {
   "cell_type": "code",
   "execution_count": 31,
   "id": "e3831b2d-8ce6-4ea4-bd03-b9364da09158",
   "metadata": {},
   "outputs": [],
   "source": [
    "#Training Set\n",
    "X_train = np.array([[158, 8], [170, 0], [183, 0], [191, 0], [155, 1], [163, 1], \n",
    "                    [180, 1], [158, 1], [170, 1]])\n",
    "\n",
    "y_train = np.array([64, 86, 84, 80, 49, 59, 67, 54, 67])\n",
    "\n",
    "#Test Set\n",
    "X_test = np.array([[168, 0], [180, 0], [166, 1], [169, 1]])\n",
    "y_test = np.array([65, 96, 52, 67])"
   ]
  },
  {
   "cell_type": "markdown",
   "id": "5b8c8775-667a-499d-a44c-0c598170b10d",
   "metadata": {},
   "source": [
    "# Features Scaling (Standard Scaler)"
   ]
  },
  {
   "cell_type": "code",
   "execution_count": 32,
   "id": "40119aee-f4c3-41f4-a685-d04888e072ae",
   "metadata": {},
   "outputs": [
    {
     "name": "stdout",
     "output_type": "stream",
     "text": [
      "X train_scaled:\n",
      "[[-0.9908706   2.77512656]\n",
      " [ 0.01869567 -0.61146856]\n",
      " [ 1.11239246 -0.61146856]\n",
      " [ 1.78543664 -0.61146856]\n",
      " [-1.24326216 -0.18814417]\n",
      " [-0.57021798 -0.18814417]\n",
      " [ 0.86000089 -0.18814417]\n",
      " [-0.9908706  -0.18814417]\n",
      " [ 0.01869567 -0.18814417]]\n",
      "\n",
      "x test_scaled:\n",
      "[[-0.14956537 -0.61146856]\n",
      " [ 0.86000089 -0.61146856]\n",
      " [-0.31782642 -0.18814417]\n",
      " [-0.06543485 -0.18814417]]\n",
      "\n"
     ]
    }
   ],
   "source": [
    "X_train_scaled = ss.fit_transform(X_train)\n",
    "X_test_scaled = ss.transform(X_test)\n",
    "\n",
    "print(f'X train_scaled:\\n{X_train_scaled}\\n')\n",
    "print(f'x test_scaled:\\n{X_test_scaled}\\n')"
   ]
  },
  {
   "cell_type": "markdown",
   "id": "d15ce72c-6e1c-4012-85f0-98ce31dda8d3",
   "metadata": {},
   "source": [
    "# Training & Evaluasi Model"
   ]
  },
  {
   "cell_type": "code",
   "execution_count": 35,
   "id": "126e30fe-2073-43ee-8444-29d836c33b81",
   "metadata": {},
   "outputs": [
    {
     "name": "stdout",
     "output_type": "stream",
     "text": [
      "MAE: 11.250000000000004\n",
      "MSE: 170.75000000000006\n"
     ]
    }
   ],
   "source": [
    "model.fit(X_train_scaled, y_train)\n",
    "y_pred = model.predict(X_test_scaled)\n",
    "\n",
    "MAE = mean_absolute_error(y_test, y_pred)\n",
    "MSE = mean_squared_error(y_test, y_pred)\n",
    "\n",
    "print(f'MAE: {MAE}')\n",
    "print(f'MSE: {MSE}')"
   ]
  }
 ],
 "metadata": {
  "kernelspec": {
   "display_name": "Python 3 (ipykernel)",
   "language": "python",
   "name": "python3"
  },
  "language_info": {
   "codemirror_mode": {
    "name": "ipython",
    "version": 3
   },
   "file_extension": ".py",
   "mimetype": "text/x-python",
   "name": "python",
   "nbconvert_exporter": "python",
   "pygments_lexer": "ipython3",
   "version": "3.11.7"
  }
 },
 "nbformat": 4,
 "nbformat_minor": 5
}
