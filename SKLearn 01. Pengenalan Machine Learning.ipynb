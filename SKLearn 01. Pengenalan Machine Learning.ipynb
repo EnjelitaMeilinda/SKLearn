{
 "cells": [
  {
   "cell_type": "markdown",
   "id": "7d153e40-f558-4450-8c70-bb1f9e304562",
   "metadata": {},
   "source": [
    "# Apa itu Machine Learning (ML)?\n",
    "\n",
    "* \"Machine Learning is a study that gives computers the ability to learn without being explicitly programmed\" - Arthur Samuel\n",
    "\n",
    "* \"Machine Learning is a program can be said to learn from experience E with respect to some class of tasks T and performance measure P, if its performance at tasks in T, as measured by P, improves with experience E.\" - Tom Mitchell\n",
    "\n",
    "* Machine Learning adalah bidang ilmu yang memampukan suatu program komputer untuk belajar dari sekumpulan data."
   ]
  },
  {
   "cell_type": "markdown",
   "id": "8e25e82c-c22a-4f48-8a91-74082fd007d6",
   "metadata": {},
   "source": [
    "# Learning Problem\n",
    "\n",
    "* Learning problem dalam konteks Machine Learning (ML) melibatkan suatu dataset (terdiri dari sejumlah n sample data) untuk melakukan prediksi terhadap properties yang tidak diketahui pada dataset lain yang sejenis.\n",
    "\n",
    "* Secara umum learning problem dapat dibagi menjadi dua, yaitu supervised learning dan unsupervised learning.\n",
    "\n",
    "* Pada supervised learning problem, program memprediksi suatu nilai output untuk suatu input berdasarkan proses learning dengan memanfaatkan sekumpulan data yang terbagi dalam dua label, yaitu input dan output. Di sini program melakukan learning dari sekumpulan contoh kasus (examples) yang menyertakan \"jawaban benar\".\n",
    "\n",
    "* Pada unsupervised learning problem, program tidak melakukan learning dari labeled data; melainkan mencoba menemukan pola (patterns) pada data. Di sini program melakukan learning dari sekumpulan contoh kasus (examples) tanpa disertai \"jawaban benar\"."
   ]
  },
  {
   "cell_type": "markdown",
   "id": "7fd4b724-ba51-46e5-bc61-c155a3ccc086",
   "metadata": {},
   "source": [
    "# Terminologi Dasar pada Supervised Learning\n",
    "\n",
    "* output: label, response variable, dependent variable, regressand, criterion variable, measured variable, responding variable, explained variable, outcome variable, experimental variable, dan output variable\n",
    "\n",
    "* input: features, explanatory variables, predictors, regressors, controlled variables, and exposure variables\n",
    "\n",
    "* training set: Sekumpulan \"contoh\" yang digunakan untuk proses learning (training) pada supervised learning.\n",
    "\n",
    "* test set: Sekumpulan \"contoh\" yang digunakan untuk mengukur performa pada supervised learning.\n",
    "\n",
    "* Pada supervised learning, response variable bisa dianalogikan sebagai kunci jawaban dan explanatory variables bisa dianalogikan sebagai pertanyaannya."
   ]
  },
  {
   "cell_type": "markdown",
   "id": "46054504-7ad6-4af3-8549-8d04b12f031d",
   "metadata": {},
   "source": [
    "# Supervised Machine Learning Tasks\n",
    "\n",
    "* Secara umum terdapat dua jenis Supervised Machine Learning Tasks, yaitu Classification dan Regression.\n",
    "\n",
    "* Classification tasks menekankan pada proses learning (training) untuk melakukan prediksi nilai discrete (i.e., category, class, label) dari sejumlah features.\n",
    "\n",
    "* Regression tasks menekankan pada proses learning (training) untuk melakukan prediksi nilai continuos (floating point) dari sejumlah features."
   ]
  },
  {
   "cell_type": "markdown",
   "id": "4a987d54-41f9-42e7-93d4-7b8cb412c281",
   "metadata": {},
   "source": [
    "# Unsupervised Machine Learning Tasks\n",
    "\n",
    "* Terdapat beberapa Unsupervised Machine Learning Tasks dan kita akan berfokus pada dua tasks, yaitu Clustering dan Dimensionality Reduction.\n",
    "\n",
    "* Clustering tasks menekankan pada proses explorasi data untuk menemukan kelompok (group) pada data berdasarkan kemiripan (kedekatan) karakteristik.\n",
    "\n",
    "* Dimensionality Reduction tasks menekankan pada proses explorasi data untuk menemukan sejumlah features yang paling berdampak terhadap response variable."
   ]
  },
  {
   "cell_type": "markdown",
   "id": "929ce14a-8a12-4268-9f4b-2d005b148c31",
   "metadata": {},
   "source": [
    "# Rekomendasi Buku\n",
    "\n",
    "* Machine Learning Yearning (by Andrew Ng)\n",
    "\n",
    "* The Hundred-Page Machine Learning Book (by Andriy Burkov)\n",
    "\n",
    "* Learning From Data (by Yaser S. Abu-Mostafa)"
   ]
  }
 ],
 "metadata": {
  "kernelspec": {
   "display_name": "Python 3 (ipykernel)",
   "language": "python",
   "name": "python3"
  },
  "language_info": {
   "codemirror_mode": {
    "name": "ipython",
    "version": 3
   },
   "file_extension": ".py",
   "mimetype": "text/x-python",
   "name": "python",
   "nbconvert_exporter": "python",
   "pygments_lexer": "ipython3",
   "version": "3.11.7"
  }
 },
 "nbformat": 4,
 "nbformat_minor": 5
}
