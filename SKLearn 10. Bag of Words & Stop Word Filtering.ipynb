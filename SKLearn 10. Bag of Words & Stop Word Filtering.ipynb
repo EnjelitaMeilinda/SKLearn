{
 "cells": [
  {
   "cell_type": "markdown",
   "id": "bd495e00-f1e5-41c1-bf87-13b6d5df2a44",
   "metadata": {},
   "source": [
    "# 10 Mengenal Text Processing: Bag of Words & Stop Word Filtering"
   ]
  },
  {
   "cell_type": "markdown",
   "id": "324692af-590b-4512-823c-485ddad0d407",
   "metadata": {},
   "source": [
    "# Bag of Words model sebagai representasi text\n",
    "\n",
    "Bag of Words menyederhanakan representasi text sebagai sekumpulan kata serta mengabaikan grammar dan posisi tiap kata pada kalimat. Text akan dikonversi menjadi lowercase dan tanda baca akan diabaikan.\n",
    "\n",
    "Referensi: https://en.wikipedia.org/wiki/Bag-of-words_model"
   ]
  },
  {
   "cell_type": "markdown",
   "id": "875acd50-3312-45ba-945e-006c9ed713af",
   "metadata": {},
   "source": [
    "# Dataset"
   ]
  },
  {
   "cell_type": "code",
   "execution_count": 1,
   "id": "7384fdb0-d083-478f-b853-8296e1f8dd1b",
   "metadata": {},
   "outputs": [
    {
     "data": {
      "text/plain": [
       "['Linux has been around since the mid-1990s.',\n",
       " 'Linux distributions include the Linux kernel.',\n",
       " 'Linux is one of the most prominent open-source software.']"
      ]
     },
     "execution_count": 1,
     "metadata": {},
     "output_type": "execute_result"
    }
   ],
   "source": [
    "corpus = [\n",
    "    'Linux has been around since the mid-1990s.',\n",
    "    'Linux distributions include the Linux kernel.',\n",
    "    'Linux is one of the most prominent open-source software.'\n",
    "]\n",
    "corpus"
   ]
  },
  {
   "cell_type": "markdown",
   "id": "417c7b60-e0c8-41f9-ae7c-a002746ca202",
   "metadata": {},
   "source": [
    "# Bag of Words model dengan CountVectorizer\n",
    "\n",
    "Bag of Words model dapat diterapkan dengan memanfatkan CountVectorizer."
   ]
  },
  {
   "cell_type": "code",
   "execution_count": 2,
   "id": "5c1e8cfb-e479-4e70-8796-1ef875cfcb1e",
   "metadata": {},
   "outputs": [
    {
     "data": {
      "text/plain": [
       "matrix([[1, 1, 1, 0, 1, 0, 0, 0, 1, 1, 0, 0, 0, 0, 0, 1, 0, 0, 1],\n",
       "        [0, 0, 0, 1, 0, 1, 0, 1, 2, 0, 0, 0, 0, 0, 0, 0, 0, 0, 1],\n",
       "        [0, 0, 0, 0, 0, 0, 1, 0, 1, 0, 1, 1, 1, 1, 1, 0, 1, 1, 1]],\n",
       "       dtype=int64)"
      ]
     },
     "execution_count": 2,
     "metadata": {},
     "output_type": "execute_result"
    }
   ],
   "source": [
    "from sklearn.feature_extraction.text import CountVectorizer\n",
    "\n",
    "vectorizer = CountVectorizer()\n",
    "vectorized_X = vectorizer.fit_transform(corpus).todense() \n",
    "vectorized_X"
   ]
  },
  {
   "cell_type": "code",
   "execution_count": 3,
   "id": "012220fb-8c05-43ad-a026-6214538d8e67",
   "metadata": {},
   "outputs": [
    {
     "data": {
      "text/plain": [
       "array(['1990s', 'around', 'been', 'distributions', 'has', 'include', 'is',\n",
       "       'kernel', 'linux', 'mid', 'most', 'of', 'one', 'open', 'prominent',\n",
       "       'since', 'software', 'source', 'the'], dtype=object)"
      ]
     },
     "execution_count": 3,
     "metadata": {},
     "output_type": "execute_result"
    }
   ],
   "source": [
    "vectorizer.get_feature_names_out()"
   ]
  },
  {
   "cell_type": "markdown",
   "id": "94364a73-32d2-46f8-a49f-8ad2b4185171",
   "metadata": {},
   "source": [
    "# Euclidean Distance untuk mengukur kedekatan/jarak antar dokumen (vector)"
   ]
  },
  {
   "cell_type": "code",
   "execution_count": 4,
   "id": "9f812f18-a215-4fdb-a2db-07913c1b3fd6",
   "metadata": {},
   "outputs": [
    {
     "name": "stdout",
     "output_type": "stream",
     "text": [
      "Jarak dokumen 1 dan 2: [[3.16227766]]\n",
      "Jarak dokumen 1 dan 3: [[3.74165739]]\n",
      "Jarak dokumen 2 dan 3: [[3.46410162]]\n"
     ]
    }
   ],
   "source": [
    "import numpy as np\n",
    "from sklearn.metrics.pairwise import euclidean_distances\n",
    "\n",
    "for i in range(len(vectorized_X)):\n",
    "    for j in range(i, len(vectorized_X)):\n",
    "        if i == j:\n",
    "            continue\n",
    "        jarak = euclidean_distances(np.asarray(vectorized_X[i]).reshape(1, -1), \n",
    "                                    np.asarray(vectorized_X[j]).reshape(1, -1))\n",
    "        print(f'Jarak dokumen {i+1} dan {j+1}: {jarak}')"
   ]
  },
  {
   "cell_type": "markdown",
   "id": "9faa1489-93a4-45a8-9127-2e9f8ee003cd",
   "metadata": {},
   "source": [
    "# Stop Word Filtering pada text\n",
    "\n",
    "Stop Word Filtering menyederhanakan representasi text dengan mengabaikan beberapa kata seperti determiners (the, a, an), auxiliary verbs (do, be, will), dan prepositions (on, in, at).\n",
    "Referensi: https://en.wikipedia.org/wiki/Stop word"
   ]
  },
  {
   "cell_type": "markdown",
   "id": "18e0bfa0-1b66-484f-b4a0-2193302e251e",
   "metadata": {},
   "source": [
    "# Dataset"
   ]
  },
  {
   "cell_type": "code",
   "execution_count": 5,
   "id": "38bd9b1e-3e87-457a-8f40-71090e0b9ac4",
   "metadata": {},
   "outputs": [
    {
     "data": {
      "text/plain": [
       "['Linux has been around since the mid-1990s.',\n",
       " 'Linux distributions include the Linux kernel.',\n",
       " 'Linux is one of the most prominent open-source software.']"
      ]
     },
     "execution_count": 5,
     "metadata": {},
     "output_type": "execute_result"
    }
   ],
   "source": [
    "corpus"
   ]
  },
  {
   "cell_type": "markdown",
   "id": "333f64a5-29c7-4f8b-a094-6991a1632341",
   "metadata": {},
   "source": [
    "# Stop Word Filtering dengan CountVectorizer\n",
    "\n",
    "Stop Word Filtering juga dapat diterapkan dengan memanfatkan CountVectorizer."
   ]
  },
  {
   "cell_type": "code",
   "execution_count": 6,
   "id": "37f9b635-3a0c-4920-b380-fb4ea358dcf2",
   "metadata": {},
   "outputs": [
    {
     "data": {
      "text/plain": [
       "matrix([[1, 0, 0, 0, 1, 1, 0, 0, 0, 0],\n",
       "        [0, 1, 1, 1, 2, 0, 0, 0, 0, 0],\n",
       "        [0, 0, 0, 0, 1, 0, 1, 1, 1, 1]], dtype=int64)"
      ]
     },
     "execution_count": 6,
     "metadata": {},
     "output_type": "execute_result"
    }
   ],
   "source": [
    "from sklearn.feature_extraction.text import CountVectorizer\n",
    "\n",
    "vectorizer = CountVectorizer(stop_words='english')\n",
    "vectorized_X = vectorizer.fit_transform(corpus).todense() \n",
    "vectorized_X"
   ]
  },
  {
   "cell_type": "code",
   "execution_count": 7,
   "id": "3c0e2910-909b-43b9-b72b-dc6ebe4f6b61",
   "metadata": {},
   "outputs": [
    {
     "data": {
      "text/plain": [
       "array(['1990s', 'distributions', 'include', 'kernel', 'linux', 'mid',\n",
       "       'open', 'prominent', 'software', 'source'], dtype=object)"
      ]
     },
     "execution_count": 7,
     "metadata": {},
     "output_type": "execute_result"
    }
   ],
   "source": [
    "vectorizer.get_feature_names_out()"
   ]
  }
 ],
 "metadata": {
  "kernelspec": {
   "display_name": "Python 3 (ipykernel)",
   "language": "python",
   "name": "python3"
  },
  "language_info": {
   "codemirror_mode": {
    "name": "ipython",
    "version": 3
   },
   "file_extension": ".py",
   "mimetype": "text/x-python",
   "name": "python",
   "nbconvert_exporter": "python",
   "pygments_lexer": "ipython3",
   "version": "3.11.7"
  }
 },
 "nbformat": 4,
 "nbformat_minor": 5
}
